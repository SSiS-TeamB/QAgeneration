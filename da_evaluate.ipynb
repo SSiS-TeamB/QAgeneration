{
 "cells": [
  {
   "cell_type": "code",
   "execution_count": 9,
   "metadata": {},
   "outputs": [],
   "source": [
    "\"\"\" compare 3 Embedding models \n",
    "1. base\n",
    "2. epoch 2\n",
    "3. epoch 25\n",
    "\"\"\"\n",
    "\n",
    "import json\n",
    "from tqdm.notebook import tqdm\n",
    "import pandas as pd\n",
    "import os"
   ]
  },
  {
   "cell_type": "code",
   "execution_count": 7,
   "metadata": {},
   "outputs": [],
   "source": [
    "#load dataset\n",
    "\n",
    "train_dataset_path = 'da_dataset/da_train_dataset.json'\n",
    "val_dataset_path = 'da_dataset/da_val_dataset.json'\n",
    "\n",
    "\n",
    "with open(train_dataset_path, 'r+', encoding='utf-8') as f :\n",
    "    train_dataset = json.load(f)\n",
    "\n",
    "with open(val_dataset_path, 'r', encoding='utf-8') as f :\n",
    "    val_dataset = json.load(f)"
   ]
  },
  {
   "cell_type": "code",
   "execution_count": 10,
   "metadata": {},
   "outputs": [],
   "source": [
    "from sentence_transformers.evaluation import InformationRetrievalEvaluator\n",
    "from sentence_transformers import SentenceTransformer\n",
    "\n",
    "def evaluate_st(\n",
    "    dataset,\n",
    "    model_id,\n",
    "    name,\n",
    "):\n",
    "    corpus = dataset['corpus']\n",
    "    queries = dataset['queries']\n",
    "    relevant_docs = dataset['relevant_docs']\n",
    "\n",
    "    evaluator = InformationRetrievalEvaluator(queries, corpus, relevant_docs, name=name)\n",
    "    model = SentenceTransformer(model_id)\n",
    "    if not os.path.exists('eval_results'):\n",
    "        os.mkdir('eval_results')\n",
    "\n",
    "    return evaluator(model, output_path='results/')"
   ]
  },
  {
   "cell_type": "code",
   "execution_count": 11,
   "metadata": {},
   "outputs": [],
   "source": [
    "#model path config\n",
    "kosim = \"./BM-K/KoSimCSE-roberta-multitask/\"\n",
    "epoch_2 = \"./da_finetune_epoch_2/\"\n",
    "epoch_25 = \"./da_finetune_epoch_25/\""
   ]
  },
  {
   "cell_type": "code",
   "execution_count": 12,
   "metadata": {},
   "outputs": [
    {
     "data": {
      "text/plain": [
       "0.5660207518685775"
      ]
     },
     "execution_count": 12,
     "metadata": {},
     "output_type": "execute_result"
    }
   ],
   "source": [
    "evaluate_st(val_dataset, kosim, name=\"KoSimCSE\")"
   ]
  },
  {
   "cell_type": "code",
   "execution_count": 13,
   "metadata": {},
   "outputs": [
    {
     "data": {
      "text/plain": [
       "0.8981735343096556"
      ]
     },
     "execution_count": 13,
     "metadata": {},
     "output_type": "execute_result"
    }
   ],
   "source": [
    "evaluate_st(val_dataset, epoch_2, name=\"Epoch2\")"
   ]
  },
  {
   "cell_type": "code",
   "execution_count": 14,
   "metadata": {},
   "outputs": [
    {
     "data": {
      "text/plain": [
       "0.9023171302459595"
      ]
     },
     "execution_count": 14,
     "metadata": {},
     "output_type": "execute_result"
    }
   ],
   "source": [
    "evaluate_st(val_dataset, epoch_25, name=\"Epoch25\")"
   ]
  },
  {
   "cell_type": "code",
   "execution_count": 15,
   "metadata": {},
   "outputs": [],
   "source": [
    "df_st_kosim = pd.read_csv(\"results/Information-Retrieval_evaluation_KoSimCSE_results.csv\")\n",
    "df_st_epoch2 = pd.read_csv(\"results/Information-Retrieval_evaluation_Epoch2_results.csv\")\n",
    "df_st_epoch25 = pd.read_csv(\"results/Information-Retrieval_evaluation_Epoch25_results.csv\")"
   ]
  },
  {
   "cell_type": "code",
   "execution_count": 16,
   "metadata": {},
   "outputs": [
    {
     "data": {
      "text/html": [
       "<div>\n",
       "<style scoped>\n",
       "    .dataframe tbody tr th:only-of-type {\n",
       "        vertical-align: middle;\n",
       "    }\n",
       "\n",
       "    .dataframe tbody tr th {\n",
       "        vertical-align: top;\n",
       "    }\n",
       "\n",
       "    .dataframe thead th {\n",
       "        text-align: right;\n",
       "    }\n",
       "</style>\n",
       "<table border=\"1\" class=\"dataframe\">\n",
       "  <thead>\n",
       "    <tr style=\"text-align: right;\">\n",
       "      <th></th>\n",
       "      <th>epoch</th>\n",
       "      <th>steps</th>\n",
       "      <th>cos_sim-Accuracy@1</th>\n",
       "      <th>cos_sim-Accuracy@3</th>\n",
       "      <th>cos_sim-Accuracy@5</th>\n",
       "      <th>cos_sim-Accuracy@10</th>\n",
       "      <th>cos_sim-Precision@1</th>\n",
       "      <th>cos_sim-Recall@1</th>\n",
       "      <th>cos_sim-Precision@3</th>\n",
       "      <th>cos_sim-Recall@3</th>\n",
       "      <th>...</th>\n",
       "      <th>dot_score-Recall@1</th>\n",
       "      <th>dot_score-Precision@3</th>\n",
       "      <th>dot_score-Recall@3</th>\n",
       "      <th>dot_score-Precision@5</th>\n",
       "      <th>dot_score-Recall@5</th>\n",
       "      <th>dot_score-Precision@10</th>\n",
       "      <th>dot_score-Recall@10</th>\n",
       "      <th>dot_score-MRR@10</th>\n",
       "      <th>dot_score-NDCG@10</th>\n",
       "      <th>dot_score-MAP@100</th>\n",
       "    </tr>\n",
       "    <tr>\n",
       "      <th>model</th>\n",
       "      <th></th>\n",
       "      <th></th>\n",
       "      <th></th>\n",
       "      <th></th>\n",
       "      <th></th>\n",
       "      <th></th>\n",
       "      <th></th>\n",
       "      <th></th>\n",
       "      <th></th>\n",
       "      <th></th>\n",
       "      <th></th>\n",
       "      <th></th>\n",
       "      <th></th>\n",
       "      <th></th>\n",
       "      <th></th>\n",
       "      <th></th>\n",
       "      <th></th>\n",
       "      <th></th>\n",
       "      <th></th>\n",
       "      <th></th>\n",
       "      <th></th>\n",
       "    </tr>\n",
       "  </thead>\n",
       "  <tbody>\n",
       "    <tr>\n",
       "      <th>KoSimCSE</th>\n",
       "      <td>-1</td>\n",
       "      <td>-1</td>\n",
       "      <td>0.456543</td>\n",
       "      <td>0.634193</td>\n",
       "      <td>0.694365</td>\n",
       "      <td>0.775549</td>\n",
       "      <td>0.456543</td>\n",
       "      <td>0.456543</td>\n",
       "      <td>0.211398</td>\n",
       "      <td>0.634193</td>\n",
       "      <td>...</td>\n",
       "      <td>0.409742</td>\n",
       "      <td>0.197389</td>\n",
       "      <td>0.592168</td>\n",
       "      <td>0.132951</td>\n",
       "      <td>0.664756</td>\n",
       "      <td>0.075263</td>\n",
       "      <td>0.752627</td>\n",
       "      <td>0.517378</td>\n",
       "      <td>0.573762</td>\n",
       "      <td>0.526105</td>\n",
       "    </tr>\n",
       "    <tr>\n",
       "      <th>epoch2</th>\n",
       "      <td>-1</td>\n",
       "      <td>-1</td>\n",
       "      <td>0.843362</td>\n",
       "      <td>0.948424</td>\n",
       "      <td>0.964661</td>\n",
       "      <td>0.978032</td>\n",
       "      <td>0.843362</td>\n",
       "      <td>0.843362</td>\n",
       "      <td>0.316141</td>\n",
       "      <td>0.948424</td>\n",
       "      <td>...</td>\n",
       "      <td>0.818529</td>\n",
       "      <td>0.314550</td>\n",
       "      <td>0.943649</td>\n",
       "      <td>0.192741</td>\n",
       "      <td>0.963706</td>\n",
       "      <td>0.097899</td>\n",
       "      <td>0.978988</td>\n",
       "      <td>0.883868</td>\n",
       "      <td>0.907693</td>\n",
       "      <td>0.884566</td>\n",
       "    </tr>\n",
       "    <tr>\n",
       "      <th>epoch25</th>\n",
       "      <td>-1</td>\n",
       "      <td>-1</td>\n",
       "      <td>0.859599</td>\n",
       "      <td>0.936963</td>\n",
       "      <td>0.957020</td>\n",
       "      <td>0.974212</td>\n",
       "      <td>0.859599</td>\n",
       "      <td>0.859599</td>\n",
       "      <td>0.312321</td>\n",
       "      <td>0.936963</td>\n",
       "      <td>...</td>\n",
       "      <td>0.851958</td>\n",
       "      <td>0.312321</td>\n",
       "      <td>0.936963</td>\n",
       "      <td>0.191595</td>\n",
       "      <td>0.957975</td>\n",
       "      <td>0.097421</td>\n",
       "      <td>0.974212</td>\n",
       "      <td>0.897436</td>\n",
       "      <td>0.916352</td>\n",
       "      <td>0.898317</td>\n",
       "    </tr>\n",
       "  </tbody>\n",
       "</table>\n",
       "<p>3 rows × 32 columns</p>\n",
       "</div>"
      ],
      "text/plain": [
       "          epoch  steps  cos_sim-Accuracy@1  cos_sim-Accuracy@3  \\\n",
       "model                                                            \n",
       "KoSimCSE     -1     -1            0.456543            0.634193   \n",
       "epoch2       -1     -1            0.843362            0.948424   \n",
       "epoch25      -1     -1            0.859599            0.936963   \n",
       "\n",
       "          cos_sim-Accuracy@5  cos_sim-Accuracy@10  cos_sim-Precision@1  \\\n",
       "model                                                                    \n",
       "KoSimCSE            0.694365             0.775549             0.456543   \n",
       "epoch2              0.964661             0.978032             0.843362   \n",
       "epoch25             0.957020             0.974212             0.859599   \n",
       "\n",
       "          cos_sim-Recall@1  cos_sim-Precision@3  cos_sim-Recall@3  ...  \\\n",
       "model                                                              ...   \n",
       "KoSimCSE          0.456543             0.211398          0.634193  ...   \n",
       "epoch2            0.843362             0.316141          0.948424  ...   \n",
       "epoch25           0.859599             0.312321          0.936963  ...   \n",
       "\n",
       "          dot_score-Recall@1  dot_score-Precision@3  dot_score-Recall@3  \\\n",
       "model                                                                     \n",
       "KoSimCSE            0.409742               0.197389            0.592168   \n",
       "epoch2              0.818529               0.314550            0.943649   \n",
       "epoch25             0.851958               0.312321            0.936963   \n",
       "\n",
       "          dot_score-Precision@5  dot_score-Recall@5  dot_score-Precision@10  \\\n",
       "model                                                                         \n",
       "KoSimCSE               0.132951            0.664756                0.075263   \n",
       "epoch2                 0.192741            0.963706                0.097899   \n",
       "epoch25                0.191595            0.957975                0.097421   \n",
       "\n",
       "          dot_score-Recall@10  dot_score-MRR@10  dot_score-NDCG@10  \\\n",
       "model                                                                \n",
       "KoSimCSE             0.752627          0.517378           0.573762   \n",
       "epoch2               0.978988          0.883868           0.907693   \n",
       "epoch25              0.974212          0.897436           0.916352   \n",
       "\n",
       "          dot_score-MAP@100  \n",
       "model                        \n",
       "KoSimCSE           0.526105  \n",
       "epoch2             0.884566  \n",
       "epoch25            0.898317  \n",
       "\n",
       "[3 rows x 32 columns]"
      ]
     },
     "execution_count": 16,
     "metadata": {},
     "output_type": "execute_result"
    }
   ],
   "source": [
    "df_st_kosim['model'] = 'KoSimCSE'\n",
    "df_st_epoch2['model'] = 'epoch2'\n",
    "df_st_epoch25['model'] = 'epoch25'\n",
    "df_st_all = pd.concat([df_st_kosim, df_st_epoch2, df_st_epoch25])\n",
    "df_st_all = df_st_all.set_index('model')\n",
    "df_st_all"
   ]
  },
  {
   "cell_type": "code",
   "execution_count": null,
   "metadata": {},
   "outputs": [],
   "source": []
  }
 ],
 "metadata": {
  "kernelspec": {
   "display_name": "langchain",
   "language": "python",
   "name": "python3"
  },
  "language_info": {
   "codemirror_mode": {
    "name": "ipython",
    "version": 3
   },
   "file_extension": ".py",
   "mimetype": "text/x-python",
   "name": "python",
   "nbconvert_exporter": "python",
   "pygments_lexer": "ipython3",
   "version": "3.10.13"
  }
 },
 "nbformat": 4,
 "nbformat_minor": 2
}
